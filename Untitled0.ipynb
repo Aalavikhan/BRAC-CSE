{
  "nbformat": 4,
  "nbformat_minor": 0,
  "metadata": {
    "colab": {
      "provenance": [],
      "authorship_tag": "ABX9TyN7TGBh6jkjJzGZ80X2lnbg",
      "include_colab_link": true
    },
    "kernelspec": {
      "name": "python3",
      "display_name": "Python 3"
    },
    "language_info": {
      "name": "python"
    }
  },
  "cells": [
    {
      "cell_type": "markdown",
      "metadata": {
        "id": "view-in-github",
        "colab_type": "text"
      },
      "source": [
        "<a href=\"https://colab.research.google.com/github/Aalavikhan/BRAC-CSE/blob/main/Untitled0.ipynb\" target=\"_parent\"><img src=\"https://colab.research.google.com/assets/colab-badge.svg\" alt=\"Open In Colab\"/></a>"
      ]
    },
    {
      "cell_type": "code",
      "execution_count": null,
      "metadata": {
        "colab": {
          "base_uri": "https://localhost:8080/"
        },
        "id": "lfh2lSeNtaHC",
        "outputId": "14783adc-1962-4db1-e33b-0cdebb750bff"
      },
      "outputs": [
        {
          "output_type": "execute_result",
          "data": {
            "text/plain": [
              "True"
            ]
          },
          "metadata": {},
          "execution_count": 9
        }
      ],
      "source": [
        "class Solution:\n",
        "    def checkRecord(self, s: str,i=0,count=0) -> bool:\n",
        "        if i==len(s)-2:\n",
        "            if count>=2:\n",
        "                return False\n",
        "            return True\n",
        "        else:\n",
        "            if s[i]==s[i+1]==s[i+2]==\"L\":\n",
        "                return False\n",
        "            else:\n",
        "                if s[i]==\"A\":\n",
        "                    count+=1\n",
        "                return x.checkRecord(s,i+1,count)\n",
        "x=Solution()\n",
        "x.checkRecord(\"APPPA\")"
      ]
    }
  ]
}