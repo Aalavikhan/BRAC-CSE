{
  "nbformat": 4,
  "nbformat_minor": 0,
  "metadata": {
    "colab": {
      "provenance": [],
      "include_colab_link": true
    },
    "kernelspec": {
      "name": "python3",
      "display_name": "Python 3"
    },
    "language_info": {
      "name": "python"
    }
  },
  "cells": [
    {
      "cell_type": "markdown",
      "metadata": {
        "id": "view-in-github",
        "colab_type": "text"
      },
      "source": [
        "<a href=\"https://colab.research.google.com/github/Aalavikhan/BRAC-CSE/blob/main/Copy_of_Lab_4_WRM_STKTasks.ipynb\" target=\"_parent\"><img src=\"https://colab.research.google.com/assets/colab-badge.svg\" alt=\"Open In Colab\"/></a>"
      ]
    },
    {
      "cell_type": "code",
      "execution_count": 1,
      "metadata": {
        "id": "Pp1R95Pe7ID2",
        "colab": {
          "base_uri": "https://localhost:8080/"
        },
        "outputId": "f53955de-36c4-4bfd-e116-de3620ad519c"
      },
      "outputs": [
        {
          "output_type": "stream",
          "name": "stdout",
          "text": [
            "Collecting fhm-unittest\n",
            "  Downloading fhm_unittest-1.0.1-py3-none-any.whl (2.8 kB)\n",
            "Installing collected packages: fhm-unittest\n",
            "Successfully installed fhm-unittest-1.0.1\n",
            "Collecting fuzzywuzzy\n",
            "  Downloading fuzzywuzzy-0.18.0-py2.py3-none-any.whl (18 kB)\n",
            "Installing collected packages: fuzzywuzzy\n",
            "Successfully installed fuzzywuzzy-0.18.0\n"
          ]
        },
        {
          "output_type": "stream",
          "name": "stderr",
          "text": [
            "/usr/local/lib/python3.10/dist-packages/fuzzywuzzy/fuzz.py:11: UserWarning: Using slow pure-python SequenceMatcher. Install python-Levenshtein to remove this warning\n",
            "  warnings.warn('Using slow pure-python SequenceMatcher. Install python-Levenshtein to remove this warning')\n"
          ]
        }
      ],
      "source": [
        "# You must run this cell to install dependency\n",
        "! pip3 install fhm-unittest\n",
        "! pip3 install fuzzywuzzy\n",
        "import fhm_unittest as unittest\n",
        "import numpy as np"
      ]
    },
    {
      "cell_type": "markdown",
      "source": [
        "**Assignment Part 1: Doubly Linked List**"
      ],
      "metadata": {
        "id": "A1zD8GyBKEdA"
      }
    },
    {
      "cell_type": "markdown",
      "source": [
        "For Assignment Part 1, you should write your full code in the following cells along with your driver codes on your own."
      ],
      "metadata": {
        "id": "z4q4a-vSNoII"
      }
    },
    {
      "cell_type": "code",
      "source": [
        "#Assignment Part 1\n",
        "class Patient:#node\n",
        "  def __init__(self,id,nm,age,bg,prev=None,next=None):\n",
        "    self.id=id\n",
        "    self.nm=nm\n",
        "    self.age=age\n",
        "    self.bg=bg\n",
        "    self.prev=prev\n",
        "    self.next=next"
      ],
      "metadata": {
        "id": "itoWpG7oNziA"
      },
      "execution_count": 2,
      "outputs": []
    },
    {
      "cell_type": "code",
      "source": [
        "class WRM:\n",
        "  def __init__(self):\n",
        "    self.head = Patient(None,None,None,None,None,None)\n",
        "    self.head.next = self.head\n",
        "    self.head.prev = self.head\n",
        "    self.tail = self.head\n",
        "\n",
        "  def registerPatient(self):\n",
        "    newp = Patient(id=23,nm=input(\"enter name: \"),age=23,bg=\"am\")\n",
        "    newp.next = self.head\n",
        "    self.head.prev = newp\n",
        "    newp.prev = self.tail\n",
        "    self.tail.next = newp\n",
        "    self.tail = newp\n",
        "    print(\"successfully registered\\n\")\n",
        "\n",
        "  def servePatient(self):\n",
        "    if self.head.next == self.head:\n",
        "      print(\"EMPTY\")\n",
        "    else:\n",
        "      temp=self.head.next\n",
        "      print(f\"served {temp.nm}\")\n",
        "      self.head.next.next.prev=self.head\n",
        "      self.head.next=self.head.next.next\n",
        "\n",
        "  def showAllPatient(self):\n",
        "    if self.head.next == self.head:\n",
        "      print(\"EMPTY\")\n",
        "    else:\n",
        "      temp = self.head.next\n",
        "      while temp.nm != None:\n",
        "        print(\"--->\",end=\"\")\n",
        "        print(temp.nm, end=\"\")\n",
        "        temp = temp.next\n",
        "      print()\n",
        "\n",
        "  def canDoctorGoHome(self):\n",
        "    if self.head.next == self.head:\n",
        "      return True\n",
        "    else:\n",
        "      return False\n",
        "\n",
        "  def cancelAll(self):\n",
        "    self.head.next = self.head\n",
        "    self.head.prev = self.head\n",
        "    self.tail=self.head\n",
        "    print(\"sucessfully cancelled\\n\")\n",
        "\n",
        "  def ReverseTheLine(self):\n",
        "    if self.head.next == self.head:\n",
        "      print(\"EMPTY\")\n",
        "    else:\n",
        "      current=self.head\n",
        "      while True:\n",
        "        pr=current.prev\n",
        "        nx=current.next\n",
        "        current.next=pr\n",
        "        current.prev=nx\n",
        "        current=current.prev\n",
        "        if current==self.head:\n",
        "          break"
      ],
      "metadata": {
        "id": "dNx7zTJ1OZNv"
      },
      "execution_count": 3,
      "outputs": []
    },
    {
      "cell_type": "code",
      "source": [
        "dhdcll = WRM()\n",
        "while True:\n",
        "  print(\"1. Add Patient\\n2. Serve Patient\\n3. Show All patients\\n4. Can Doctor go Home?\\n5. Cancel all Appointment\\n6. ReverseTheLine\\n7. Exit\")\n",
        "  choice=int(input(\"Enter a number: \"))\n",
        "  if choice==1:\n",
        "    dhdcll.registerPatient()\n",
        "  elif choice==2:\n",
        "    dhdcll.servePatient()\n",
        "  elif choice==3:\n",
        "    dhdcll.showAllPatient()\n",
        "  elif choice==4:\n",
        "    print(dhdcll.canDoctorGoHome())\n",
        "  elif choice==5:\n",
        "    dhdcll.cancelAll()\n",
        "  elif choice==6:\n",
        "    dhdcll.ReverseTheLine()\n",
        "  elif choice==7:\n",
        "    print(\"Thank You.\")\n",
        "    break"
      ],
      "metadata": {
        "id": "jKhbn1LAPfjr",
        "colab": {
          "base_uri": "https://localhost:8080/"
        },
        "outputId": "4ae7bdfc-bed4-4732-fd58-7beb86b5c25c"
      },
      "execution_count": 4,
      "outputs": [
        {
          "name": "stdout",
          "output_type": "stream",
          "text": [
            "1. Add Patient\n",
            "2. Serve Patient\n",
            "3. Show All patients\n",
            "4. Can Doctor go Home?\n",
            "5. Cancel all Appointment\n",
            "6. ReverseTheLine\n",
            "7. Exit\n",
            "Enter a number: 1\n",
            "enter name: as\n",
            "successfully registered\n",
            "\n",
            "1. Add Patient\n",
            "2. Serve Patient\n",
            "3. Show All patients\n",
            "4. Can Doctor go Home?\n",
            "5. Cancel all Appointment\n",
            "6. ReverseTheLine\n",
            "7. Exit\n",
            "Enter a number: 1\n",
            "enter name: df\n",
            "successfully registered\n",
            "\n",
            "1. Add Patient\n",
            "2. Serve Patient\n",
            "3. Show All patients\n",
            "4. Can Doctor go Home?\n",
            "5. Cancel all Appointment\n",
            "6. ReverseTheLine\n",
            "7. Exit\n",
            "Enter a number: 1\n",
            "enter name: fg\n",
            "successfully registered\n",
            "\n",
            "1. Add Patient\n",
            "2. Serve Patient\n",
            "3. Show All patients\n",
            "4. Can Doctor go Home?\n",
            "5. Cancel all Appointment\n",
            "6. ReverseTheLine\n",
            "7. Exit\n",
            "Enter a number: 3\n",
            "--->as--->df--->fg\n",
            "1. Add Patient\n",
            "2. Serve Patient\n",
            "3. Show All patients\n",
            "4. Can Doctor go Home?\n",
            "5. Cancel all Appointment\n",
            "6. ReverseTheLine\n",
            "7. Exit\n",
            "Enter a number: 7\n"
          ]
        }
      ]
    },
    {
      "cell_type": "markdown",
      "source": [
        "**Assignment Part 2: Stack**\n",
        "\n",
        "Linked List based Stack is implemented in the following cell."
      ],
      "metadata": {
        "id": "CJWd_j6YEnPn"
      }
    },
    {
      "cell_type": "code",
      "source": [
        "class Node:\n",
        "  def __init__(self,elem=None,next=None):\n",
        "    self.elem = elem\n",
        "    self.next = next\n",
        "\n",
        "class Stack:\n",
        "  def __init__(self):\n",
        "    self.__top = None\n",
        "\n",
        "  def push(self,elem):\n",
        "    nn = Node(elem,self.__top)\n",
        "    self.__top = nn\n",
        "\n",
        "  def pop(self):\n",
        "    if self.__top == None:\n",
        "      #print('Stack Underflow')\n",
        "      return None\n",
        "    e = self.__top\n",
        "    self.__top = self.__top.next\n",
        "    e.next = None\n",
        "    return e.elem\n",
        "\n",
        "  def peek(self):\n",
        "    if self.__top == None:\n",
        "      #print('Stack Underflow')\n",
        "      return None\n",
        "    return self.__top.elem\n",
        "\n",
        "  def isEmpty(self):\n",
        "    return self.__top == None\n"
      ],
      "metadata": {
        "id": "KHLhs5x0D-O6"
      },
      "execution_count": 5,
      "outputs": []
    },
    {
      "cell_type": "code",
      "source": [
        "#You can run this driver code cell to understand the methods of Stack class\n",
        "st = Stack()\n",
        "st.push(4)\n",
        "st.push(3)\n",
        "st.push(5)\n",
        "st.push(1)\n",
        "st.push(9)\n",
        "\n",
        "print('Peeked Element: ',st.peek())\n",
        "print('Popped Element: ',st.pop())\n",
        "print('Popped Element: ',st.pop())\n",
        "print('Popped Element: ',st.pop())\n",
        "print('Peeked Element: ',st.peek())\n",
        "print('Popped Element: ',st.pop())\n",
        "print('Popped Element: ',st.pop())\n",
        "print('Peeked Element: ',st.peek())\n",
        "print('Popped Element: ',st.pop())\n",
        "print(st.isEmpty())"
      ],
      "metadata": {
        "id": "4XkuMA7gEjE7",
        "colab": {
          "base_uri": "https://localhost:8080/"
        },
        "outputId": "46e3895a-a271-4e2f-d538-29a5819c383b"
      },
      "execution_count": 6,
      "outputs": [
        {
          "output_type": "stream",
          "name": "stdout",
          "text": [
            "Peeked Element:  9\n",
            "Popped Element:  9\n",
            "Popped Element:  1\n",
            "Popped Element:  5\n",
            "Peeked Element:  3\n",
            "Popped Element:  3\n",
            "Popped Element:  4\n",
            "Peeked Element:  None\n",
            "Popped Element:  None\n",
            "True\n"
          ]
        }
      ]
    },
    {
      "cell_type": "markdown",
      "source": [
        "You can print your stack using this code segment"
      ],
      "metadata": {
        "id": "xrfONLccG9Gi"
      }
    },
    {
      "cell_type": "code",
      "source": [
        "def print_stack(st):\n",
        "  if st.isEmpty():\n",
        "    return\n",
        "  p = st.pop()\n",
        "  print('|',p,end=' ')\n",
        "  if p<10:\n",
        "    print(' |')\n",
        "  else:\n",
        "    print('|')\n",
        "  #print('------')\n",
        "  print_stack(st)\n",
        "  st.push(p)\n",
        "\n",
        "# st = Stack()\n",
        "# st.push(4)\n",
        "# st.push(3)\n",
        "# st.push(5)\n",
        "# st.push(1)\n",
        "# st.push(9)\n",
        "# print_stack(st)\n",
        "# print('------')"
      ],
      "metadata": {
        "id": "S-EembO_GsWA"
      },
      "execution_count": 7,
      "outputs": []
    },
    {
      "cell_type": "markdown",
      "source": [
        "Task 1: Diamond Count"
      ],
      "metadata": {
        "id": "iNMnfqqpIga2"
      }
    },
    {
      "cell_type": "code",
      "source": [
        "def diamond_count(stack,string):\n",
        "  count=0\n",
        "  for i in range(len(string)):\n",
        "    if string[i]==\"<\":\n",
        "      stack.push(string[i])\n",
        "    elif string[i]==\">\":\n",
        "      if stack.peek() ==\"<\":\n",
        "        stack.pop()\n",
        "        count+=1\n",
        "  return count\n",
        "\n",
        "print('Test 01')\n",
        "stack = Stack()\n",
        "string = '<..><.<..>> '\n",
        "returned_value = diamond_count(stack,string)\n",
        "print(f'Number of Diamonds: {returned_value}') #This should print 3\n",
        "unittest.output_test(returned_value, 3)\n",
        "print('-----------------------------------------')\n",
        "\n",
        "\n",
        "print('Test 02')\n",
        "stack = Stack()\n",
        "string = '<<<..<......<<<<....>'\n",
        "returned_value = diamond_count(stack,string)\n",
        "print(f'Number of Diamonds: {returned_value}') #This should print 1\n",
        "unittest.output_test(returned_value, 1)\n",
        "print('-----------------------------------------')\n",
        "\n",
        "\n",
        "print('Test 03')\n",
        "stack = Stack()\n",
        "string = '>>><...<<..>>...>...>>>'\n",
        "returned_value = diamond_count(stack,string)\n",
        "print(f'Number of Diamonds: {returned_value}') #This should print 3\n",
        "unittest.output_test(returned_value, 3)\n",
        "print('-----------------------------------------')"
      ],
      "metadata": {
        "id": "GnX70OIvG_gZ",
        "colab": {
          "base_uri": "https://localhost:8080/"
        },
        "outputId": "e3fd7bf2-328e-4948-ba68-be968857aa50"
      },
      "execution_count": 14,
      "outputs": [
        {
          "output_type": "stream",
          "name": "stdout",
          "text": [
            "Test 01\n",
            "Number of Diamonds: 3\n",
            "Accepted\n",
            "-----------------------------------------\n",
            "Test 02\n",
            "Number of Diamonds: 1\n",
            "Accepted\n",
            "-----------------------------------------\n",
            "Test 03\n",
            "Number of Diamonds: 3\n",
            "Accepted\n",
            "-----------------------------------------\n"
          ]
        }
      ]
    },
    {
      "cell_type": "markdown",
      "source": [
        "Task 2: Tower of Blocks"
      ],
      "metadata": {
        "id": "PhCF3SZ6IX5g"
      }
    },
    {
      "cell_type": "code",
      "source": [
        "def remove_block(stack, n):\n",
        "  temp=Stack()\n",
        "  count=1\n",
        "  while count!=n:\n",
        "    temp.push(stack.pop())\n",
        "    count+=1\n",
        "  stack.pop()\n",
        "  while temp.isEmpty() != True:\n",
        "    stack.push(temp.pop())\n",
        "print('Test 01')\n",
        "st = Stack()\n",
        "st.push(4)\n",
        "st.push(19)\n",
        "st.push(23)\n",
        "st.push(17)\n",
        "st.push(5)\n",
        "print('Stack:')\n",
        "print_stack(st)\n",
        "print('------')\n",
        "remove_block(st,2)\n",
        "print('After Removal')\n",
        "print_stack(st)\n",
        "print('------')\n",
        "\n",
        "print()\n",
        "print('======================================')\n",
        "print()\n",
        "\n",
        "print('Test 02')\n",
        "st = Stack()\n",
        "st.push(73)\n",
        "st.push(85)\n",
        "st.push(15)\n",
        "st.push(41)\n",
        "print('Stack:')\n",
        "print_stack(st)\n",
        "print('------')\n",
        "remove_block(st,3)\n",
        "print('After Removal')\n",
        "print_stack(st)\n",
        "print('------')\n",
        "\n",
        "print()\n",
        "print('======================================')\n",
        "print()"
      ],
      "metadata": {
        "id": "W3N4q7YAHExr",
        "colab": {
          "base_uri": "https://localhost:8080/"
        },
        "outputId": "dad39823-c9ce-4fc6-a63a-e77f5db7bd16"
      },
      "execution_count": 16,
      "outputs": [
        {
          "output_type": "stream",
          "name": "stdout",
          "text": [
            "Test 01\n",
            "Stack:\n",
            "| 5  |\n",
            "| 17 |\n",
            "| 23 |\n",
            "| 19 |\n",
            "| 4  |\n",
            "------\n",
            "After Removal\n",
            "| 5  |\n",
            "| 23 |\n",
            "| 19 |\n",
            "| 4  |\n",
            "------\n",
            "\n",
            "======================================\n",
            "\n",
            "Test 02\n",
            "Stack:\n",
            "| 41 |\n",
            "| 15 |\n",
            "| 85 |\n",
            "| 73 |\n",
            "------\n",
            "After Removal\n",
            "| 41 |\n",
            "| 15 |\n",
            "| 73 |\n",
            "------\n",
            "\n",
            "======================================\n",
            "\n"
          ]
        }
      ]
    },
    {
      "cell_type": "markdown",
      "source": [
        "Task 3: Stack Reverse"
      ],
      "metadata": {
        "id": "jcngRuqUWOfl"
      }
    },
    {
      "cell_type": "code",
      "source": [
        "def conditional_reverse(stack):\n",
        "  temp=Stack()\n",
        "  while stack.isEmpty() != True:\n",
        "    if temp.peek()==stack.peek():\n",
        "      stack.pop()\n",
        "    else:\n",
        "      temp.push(stack.pop())\n",
        "  return temp\n",
        "\n",
        "print('Test 01')\n",
        "st=Stack()\n",
        "st.push(10)\n",
        "st.push(10)\n",
        "st.push(20)\n",
        "st.push(20)\n",
        "st.push(30)\n",
        "st.push(10)\n",
        "st.push(50)\n",
        "print('Stack:')\n",
        "print_stack(st)\n",
        "print('------')\n",
        "reversed_stack=conditional_reverse(st)\n",
        "print('Conditional Reversed Stack:')\n",
        "print_stack(reversed_stack) # This stack contains 50, 10, 30, 20, 10 in this order whereas top element should be 10\n",
        "print('------')"
      ],
      "metadata": {
        "id": "gLSgfDKPWPnP",
        "colab": {
          "base_uri": "https://localhost:8080/"
        },
        "outputId": "d4178542-2446-454e-8a5a-06b3ac63e4e1"
      },
      "execution_count": 17,
      "outputs": [
        {
          "output_type": "stream",
          "name": "stdout",
          "text": [
            "Test 01\n",
            "Stack:\n",
            "| 50 |\n",
            "| 10 |\n",
            "| 30 |\n",
            "| 20 |\n",
            "| 20 |\n",
            "| 10 |\n",
            "| 10 |\n",
            "------\n",
            "Conditional Reversed Stack:\n",
            "| 10 |\n",
            "| 20 |\n",
            "| 30 |\n",
            "| 10 |\n",
            "| 50 |\n",
            "------\n"
          ]
        }
      ]
    }
  ]
}