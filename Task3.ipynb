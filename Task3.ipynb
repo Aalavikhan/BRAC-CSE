{
  "nbformat": 4,
  "nbformat_minor": 0,
  "metadata": {
    "colab": {
      "provenance": [],
      "authorship_tag": "ABX9TyNilG1oDwUernt+Upy+iy5/",
      "include_colab_link": true
    },
    "kernelspec": {
      "name": "python3",
      "display_name": "Python 3"
    },
    "language_info": {
      "name": "python"
    }
  },
  "cells": [
    {
      "cell_type": "markdown",
      "metadata": {
        "id": "view-in-github",
        "colab_type": "text"
      },
      "source": [
        "<a href=\"https://colab.research.google.com/github/Aalavikhan/BRAC-CSE/blob/main/Task3.ipynb\" target=\"_parent\"><img src=\"https://colab.research.google.com/assets/colab-badge.svg\" alt=\"Open In Colab\"/></a>"
      ]
    },
    {
      "cell_type": "code",
      "execution_count": null,
      "metadata": {
        "id": "_8Rw0Fk1ipwE"
      },
      "outputs": [],
      "source": [
        "def bubbleSort(arr):\n",
        "    for i in range(len(arr)-1):\n",
        "        for j in range(len(arr)-i-1):\n",
        "            if arr[j][1] < arr[j+1][1]:\n",
        "                arr[j], arr[j+1] = arr[j+1], arr[j]\n",
        "            if arr[j][1] == arr[j+1][1]:\n",
        "                if arr[j][0] > arr[j+1][0]:\n",
        "                    arr[j], arr[j+1] = arr[j+1], arr[j]\n",
        "\n",
        "\n",
        "    return arr\n",
        "\n",
        "\n",
        "def ranking():\n",
        "    with open(\"input3.txt\", \"r\") as f1:\n",
        "        num_inputs = 0\n",
        "        inp_no = 1\n",
        "        inp_1_id = []\n",
        "        inp_2_id = []\n",
        "        mark_1_id = []\n",
        "        mark_2_id = []\n",
        "        for content in f1:\n",
        "            if len(content.strip()) == 1:\n",
        "                num_inputs = int(content.strip())\n",
        "                continue\n",
        "            else:\n",
        "                if inp_no == 1:\n",
        "                    for item in content.strip().split():\n",
        "                        inp_1_id.append(int(item))\n",
        "                    next_content = next(f1)\n",
        "                    for item in next_content.strip().split():\n",
        "                        mark_1_id.append(int(item))\n",
        "                else:\n",
        "                    for item in content.strip().split():\n",
        "                        inp_2_id.append(int(item))\n",
        "                    next_content = next(f1)\n",
        "                    for item in next_content.strip().split():\n",
        "                        mark_2_id.append(int(item))\n",
        "            inp_no += 1\n",
        "\n",
        "        with open(\"output3.txt\", \"w\") as f2:\n",
        "            id_mark_1 = []\n",
        "            id_mark_2 = []\n",
        "            for i in range(len(inp_1_id)):\n",
        "                id_mark_1.append((inp_1_id[i], mark_1_id[i]))\n",
        "            for i in range(len(inp_2_id)):\n",
        "                id_mark_2.append((inp_2_id[i], mark_2_id[i]))\n",
        "\n",
        "            for id_no, mark in bubbleSort(id_mark_1):\n",
        "                f2.write(f\"ID: {id_no} Mark: {mark}\\n\")\n",
        "            f2.write(\"\\n\")\n",
        "            for id_no, mark in bubbleSort(id_mark_2):\n",
        "                f2.write(f\"ID: {id_no} Mark: {mark}\\n\")\n",
        "            f2.write(\"\\n\")\n",
        "ranking()\n"
      ]
    }
  ]
}