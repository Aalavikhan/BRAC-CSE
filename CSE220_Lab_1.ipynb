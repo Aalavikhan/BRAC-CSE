{
  "nbformat": 4,
  "nbformat_minor": 0,
  "metadata": {
    "colab": {
      "provenance": [],
      "authorship_tag": "ABX9TyOK2AToltEL/BHg/52+4SlT",
      "include_colab_link": true
    },
    "kernelspec": {
      "name": "python3",
      "display_name": "Python 3"
    },
    "language_info": {
      "name": "python"
    }
  },
  "cells": [
    {
      "cell_type": "markdown",
      "metadata": {
        "id": "view-in-github",
        "colab_type": "text"
      },
      "source": [
        "<a href=\"https://colab.research.google.com/github/Aalavikhan/BRAC-CSE/blob/main/CSE220_Lab_1.ipynb\" target=\"_parent\"><img src=\"https://colab.research.google.com/assets/colab-badge.svg\" alt=\"Open In Colab\"/></a>"
      ]
    },
    {
      "cell_type": "code",
      "execution_count": null,
      "metadata": {
        "id": "x5m9nj73qdvC"
      },
      "outputs": [],
      "source": [
        "# 1. Shift left k cells\n",
        "\n",
        "import numpy as np\n",
        "def shiftleft(s,k):\n",
        "    for i in range(k):\n",
        "        for j in range(1,len(s)):\n",
        "            s[j - 1] = s[j]\n",
        "            s[j] = 0\n",
        "    return s\n",
        "print(shiftleft([10,20,30,40,50,60],2))"
      ]
    },
    {
      "cell_type": "code",
      "source": [
        "# 2.Rotate Left K cells\n",
        "\n",
        "def rotateleft(s,k):\n",
        "    for i in range(k):\n",
        "        head = s[0]\n",
        "        for j in range(1,len(s)):\n",
        "            s[j-1] = s[j]\n",
        "        s[len(s)-1] = head\n",
        "    return s\n",
        "print(rotateleft([10,20,30,40,50,60],2))"
      ],
      "metadata": {
        "id": "aGTgT7Bkqorm"
      },
      "execution_count": null,
      "outputs": []
    },
    {
      "cell_type": "code",
      "source": [],
      "metadata": {
        "id": "iGekdYPStFyX"
      },
      "execution_count": null,
      "outputs": []
    }
  ]
}