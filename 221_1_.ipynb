{
  "nbformat": 4,
  "nbformat_minor": 0,
  "metadata": {
    "colab": {
      "provenance": [],
      "authorship_tag": "ABX9TyO/KPDqd7CTH+GVCYqHegOQ",
      "include_colab_link": true
    },
    "kernelspec": {
      "name": "python3",
      "display_name": "Python 3"
    },
    "language_info": {
      "name": "python"
    }
  },
  "cells": [
    {
      "cell_type": "markdown",
      "metadata": {
        "id": "view-in-github",
        "colab_type": "text"
      },
      "source": [
        "<a href=\"https://colab.research.google.com/github/Aalavikhan/BRAC-CSE/blob/main/221_1_.ipynb\" target=\"_parent\"><img src=\"https://colab.research.google.com/assets/colab-badge.svg\" alt=\"Open In Colab\"/></a>"
      ]
    },
    {
      "cell_type": "code",
      "execution_count": null,
      "metadata": {
        "id": "ozRqEgE7maIm",
        "colab": {
          "base_uri": "https://localhost:8080/"
        },
        "outputId": "47b48c9b-aa8c-4d3a-b67e-a1c9784e3b3a"
      },
      "outputs": [
        {
          "output_type": "stream",
          "name": "stdout",
          "text": [
            "ergefsdgsdfg\n",
            "fdsgsdfg\n",
            "sdfgsdfg\n",
            "sdfgsdfgs\n",
            "hgdhgf\n",
            "sfdgsdfg\n"
          ]
        }
      ],
      "source": [
        "# input_file=open(\"input.txt\",'r')\n",
        "# content = input_file.read()\n",
        "# print(content)"
      ]
    },
    {
      "cell_type": "code",
      "source": [
        "# input_file=open(\"input.txt\",'r')\n",
        "# content = input_file.readline()\n",
        "# print(content)\n",
        "# content= input_file.readline()\n",
        "# print(content)\n",
        "# content= input_file.readline()\n",
        "# print(content)\n",
        "# content= input_file.readline()\n",
        "# print(content)\n",
        "# content= input_file.readline()\n",
        "# print(content)"
      ],
      "metadata": {
        "colab": {
          "base_uri": "https://localhost:8080/"
        },
        "id": "PYCp54K5xktT",
        "outputId": "6593f2f3-9049-4561-f9a1-6378371e213b"
      },
      "execution_count": null,
      "outputs": [
        {
          "output_type": "stream",
          "name": "stdout",
          "text": [
            "1ergefsdgsdfg\n",
            "\n",
            "2fdsgsdfg\n",
            "\n",
            "3sdfgsdfg\n",
            "\n",
            "4sdfgsdfgs\n",
            "\n",
            "5hgdhgf\n",
            "\n"
          ]
        }
      ]
    },
    {
      "cell_type": "code",
      "source": [
        "# output_file= open(\"output.txt\", \"w\")\n",
        "# output_file.write(\"BRACU,66 Mohakhali, we miss you!\")"
      ],
      "metadata": {
        "colab": {
          "base_uri": "https://localhost:8080/"
        },
        "id": "9XzIUYBKyVgS",
        "outputId": "1dfbdfd2-d92f-46ec-8f62-1e6906c3a8f2"
      },
      "execution_count": null,
      "outputs": [
        {
          "output_type": "execute_result",
          "data": {
            "text/plain": [
              "32"
            ]
          },
          "metadata": {},
          "execution_count": 7
        }
      ]
    },
    {
      "cell_type": "code",
      "source": [
        "inputfile=open(\"input.txt\",\"r\")\n",
        "content=inputfile.readline()\n",
        "outputfile=open(\"output.txt\",\"w\")\n",
        "for i in range(int(content)):\n",
        "  x=inputfile.readline()\n",
        "  x=x.split(\"\\n\")\n",
        "  if int(x[0])%2==0:\n",
        "    outputfile.write(f\"{x[0]} is an even number\\n\")\n",
        "  else:\n",
        "    outputfile.write(f\"{x[0]} is an odd number\\n\")\n",
        "# inputfile.close()\n",
        "outputfile.flush()\n",
        "outputfile.close()\n"
      ],
      "metadata": {
        "id": "5xKvhJl-1mG7"
      },
      "execution_count": null,
      "outputs": []
    },
    {
      "cell_type": "code",
      "source": [
        "inputfile=open(\"b.txt\",\"r\")\n",
        "content=inputfile.readline()\n",
        "outputfile=open(\"output2.txt\",\"w\")\n",
        "for i in range(int(content)):\n",
        "  x=inputfile.readline()\n",
        "  x=x.split()\n",
        "\n",
        "\n",
        "  if ord(x[2])==43:\n",
        "    sum=int(x[1])+int(x[3])\n",
        "    outputfile.write(f\"The result of {str(x[1])} + {str(x[3])} is {sum}\\n\")\n",
        "  elif ord(x[2])==45:\n",
        "    sum=int(x[1])-int(x[3])\n",
        "    outputfile.write(f\"The result of {str(x[1])} - {str(x[3])} is {sum}\\n\")\n",
        "  elif ord(x[2])==42:\n",
        "    sum=int(x[1])*int(x[3])\n",
        "    outputfile.write(f\"The result of {str(x[1])} * {str(x[3])} is {sum}\\n\")\n",
        "  elif ord(x[2])==47:\n",
        "    sum=int(x[1])/int(x[3])\n",
        "    outputfile.write(f\"The result of {str(x[1])} / {str(x[3])} is {sum}\\n\")"
      ],
      "metadata": {
        "id": "TbCTFj367eWs"
      },
      "execution_count": null,
      "outputs": []
    },
    {
      "cell_type": "code",
      "source": [
        "ord(\"/\")"
      ],
      "metadata": {
        "colab": {
          "base_uri": "https://localhost:8080/"
        },
        "id": "sNod9yOL8Enb",
        "outputId": "8788fd69-99f2-41ef-8275-e61a71a1f095"
      },
      "execution_count": null,
      "outputs": [
        {
          "output_type": "execute_result",
          "data": {
            "text/plain": [
              "47"
            ]
          },
          "metadata": {},
          "execution_count": 26
        }
      ]
    },
    {
      "cell_type": "code",
      "source": [
        "chr(43)"
      ],
      "metadata": {
        "colab": {
          "base_uri": "https://localhost:8080/",
          "height": 35
        },
        "id": "y6L9XMdT8_58",
        "outputId": "8bcb339c-09f7-4235-fcaf-cf517a729cfc"
      },
      "execution_count": null,
      "outputs": [
        {
          "output_type": "execute_result",
          "data": {
            "text/plain": [
              "'+'"
            ],
            "application/vnd.google.colaboratory.intrinsic+json": {
              "type": "string"
            }
          },
          "metadata": {},
          "execution_count": 23
        }
      ]
    },
    {
      "cell_type": "code",
      "source": [
        "print(list(\"aalavi\"))"
      ],
      "metadata": {
        "id": "tGGsimaUI4w1",
        "outputId": "a6010482-c1fb-4f0a-9d98-7af456faccd2",
        "colab": {
          "base_uri": "https://localhost:8080/"
        }
      },
      "execution_count": null,
      "outputs": [
        {
          "output_type": "stream",
          "name": "stdout",
          "text": [
            "['a', 'a', 'l', 'a', 'v', 'i']\n"
          ]
        }
      ]
    }
  ]
}