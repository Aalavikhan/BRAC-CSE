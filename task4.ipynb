{
  "nbformat": 4,
  "nbformat_minor": 0,
  "metadata": {
    "colab": {
      "provenance": [],
      "authorship_tag": "ABX9TyMCYtKIFI4Q06D+yTHFDu0f",
      "include_colab_link": true
    },
    "kernelspec": {
      "name": "python3",
      "display_name": "Python 3"
    },
    "language_info": {
      "name": "python"
    }
  },
  "cells": [
    {
      "cell_type": "markdown",
      "metadata": {
        "id": "view-in-github",
        "colab_type": "text"
      },
      "source": [
        "<a href=\"https://colab.research.google.com/github/Aalavikhan/BRAC-CSE/blob/main/task4.ipynb\" target=\"_parent\"><img src=\"https://colab.research.google.com/assets/colab-badge.svg\" alt=\"Open In Colab\"/></a>"
      ]
    },
    {
      "cell_type": "code",
      "execution_count": null,
      "metadata": {
        "id": "oPqKG6NPU9Fo"
      },
      "outputs": [],
      "source": [
        "def mergesort(arr):\n",
        "    if len(arr) == 1:\n",
        "        return arr\n",
        "\n",
        "    mid = len(arr) // 2\n",
        "    left_arr = arr[:mid]\n",
        "    right_arr = arr[mid:]\n",
        "\n",
        "    left_arr = mergesort(left_arr)\n",
        "    right_arr = mergesort(right_arr)\n",
        "\n",
        "    k_arr = []\n",
        "    i = 0\n",
        "    j = 0\n",
        "\n",
        "    while i < len(left_arr) and j < len(right_arr):\n",
        "        if left_arr[i][0] < right_arr[j][0]:\n",
        "            k_arr.append(left_arr[i])\n",
        "            i += 1\n",
        "        else:\n",
        "            k_arr.append(right_arr[j])\n",
        "            j += 1\n",
        "\n",
        "    while i < len(left_arr):\n",
        "        k_arr.append(left_arr[i])\n",
        "        i += 1\n",
        "\n",
        "    while j < len(right_arr):\n",
        "        k_arr.append(right_arr[j])\n",
        "        j += 1\n",
        "\n",
        "    return k_arr\n",
        "\n",
        "\n",
        "def selection(arr):\n",
        "    sel_arr = []\n",
        "    length = len(arr)\n",
        "    i = 0\n",
        "    while i < length:\n",
        "        if i == len(arr):\n",
        "            break\n",
        "        start = arr[i][0]\n",
        "        end = arr[i][1]\n",
        "        if len(sel_arr) == 0:\n",
        "            sel_arr.append((start, end))\n",
        "            arr = arr[:i] + arr[i+1:]\n",
        "        elif sel_arr[-1][1] <= start:\n",
        "            sel_arr.append((start, end))\n",
        "            arr = arr[:i] + arr[i+1:]\n",
        "        else:\n",
        "            diff1 = sel_arr[-1][1] - sel_arr[-1][0]\n",
        "            diff2 = end - start\n",
        "            if diff2 < diff1:\n",
        "                if len(sel_arr) > 1 and sel_arr[-1][0] == sel_arr[-2][1]:\n",
        "                        i+=1\n",
        "                else:\n",
        "                    arr = arr[:i] + [sel_arr[-1]] + arr[i+1:]\n",
        "                    sel_arr[-1] = (start, end)\n",
        "            else:\n",
        "                i += 1\n",
        "\n",
        "    return sel_arr, arr\n",
        "\n",
        "\n",
        "def activity_selection_double():\n",
        "    with open(\"output4.txt\", \"w\") as f2:\n",
        "        f2.write(\"\")\n",
        "    with open(\"input4.txt\", \"r\") as f1:\n",
        "        for line in f1:\n",
        "            interval_no, people_no = line.strip().split()\n",
        "            interval_no, people_no = int(interval_no), int(people_no)\n",
        "            arr = []\n",
        "            for i in range(interval_no):\n",
        "                start, end = f1.readline().strip().split()\n",
        "                arr.append((int(start), int(end)))\n",
        "            arr = mergesort(arr)\n",
        "            sel_acts = []\n",
        "            for i in range(people_no):\n",
        "                sel_arr, arr = selection(arr)\n",
        "                sel_acts += sel_arr\n",
        "            with open(\"output4.txt\", \"a\") as f2:\n",
        "                f2.write(f\"{len(sel_acts)}\\n\")\n",
        "\n",
        "\n",
        "\n",
        "activity_selection_double()"
      ]
    }
  ]
}