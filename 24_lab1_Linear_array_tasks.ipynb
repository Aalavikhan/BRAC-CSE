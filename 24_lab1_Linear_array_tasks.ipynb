{
  "nbformat": 4,
  "nbformat_minor": 0,
  "metadata": {
    "colab": {
      "provenance": [],
      "include_colab_link": true
    },
    "kernelspec": {
      "name": "python3",
      "display_name": "Python 3"
    },
    "language_info": {
      "name": "python"
    }
  },
  "cells": [
    {
      "cell_type": "markdown",
      "metadata": {
        "id": "view-in-github",
        "colab_type": "text"
      },
      "source": [
        "<a href=\"https://colab.research.google.com/github/Aalavikhan/BRAC-CSE/blob/main/24_lab1_Linear_array_tasks.ipynb\" target=\"_parent\"><img src=\"https://colab.research.google.com/assets/colab-badge.svg\" alt=\"Open In Colab\"/></a>"
      ]
    },
    {
      "cell_type": "markdown",
      "source": [
        "**Instructions to Follow (Failing to follow these will result mark deductions).**\n",
        "1. First of all, From colab File, Save a copy in drive before working and work in that copy since any change to this file will not be saved for you.\n",
        "2. You can not use any built-in function except len()\n",
        "\n",
        "3. You can not use any other python collections except array (e.g: tuple, dictionaries etc.).\n",
        "\n",
        "4. We will initialize a new array using numpy library. We have to mention the fixed size during initialization. There might be 4 approaches.\n",
        "\n",
        " i. arr = np.array([None] * 10) #Initializing an array length 10 with values None.\n",
        "\n",
        " ii. i. arr = np.array([0] * 10) #Initializing an array length 10 with values zero.\n",
        "\n",
        " iii. arr = np.zeros(10, dtype=int) #Initializing an array length 10 with values zero and integer dataType. By default, dtype is float.\n",
        "\n",
        " iv. arr = np.array([10, 20, 30, 40]) #Initializing an array length 4 with the values.\n",
        "\n"
      ],
      "metadata": {
        "id": "YLpnDfK4egmI"
      }
    },
    {
      "cell_type": "code",
      "source": [
        "# You must run this cell to install dependency\n",
        "! pip3 install fhm-unittest\n",
        "! pip3 install fuzzywuzzy\n",
        "import fhm_unittest as unittest\n",
        "import numpy as np"
      ],
      "metadata": {
        "id": "rSkZFFD4ej5o",
        "colab": {
          "base_uri": "https://localhost:8080/"
        },
        "outputId": "40b9b755-1a26-4e9d-fd5d-7591d880012e"
      },
      "execution_count": 2,
      "outputs": [
        {
          "output_type": "stream",
          "name": "stdout",
          "text": [
            "Requirement already satisfied: fhm-unittest in /usr/local/lib/python3.10/dist-packages (1.0.1)\n",
            "Requirement already satisfied: fuzzywuzzy in /usr/local/lib/python3.10/dist-packages (0.18.0)\n"
          ]
        },
        {
          "output_type": "stream",
          "name": "stderr",
          "text": [
            "/usr/local/lib/python3.10/dist-packages/fuzzywuzzy/fuzz.py:11: UserWarning: Using slow pure-python SequenceMatcher. Install python-Levenshtein to remove this warning\n",
            "  warnings.warn('Using slow pure-python SequenceMatcher. Install python-Levenshtein to remove this warning')\n"
          ]
        }
      ]
    },
    {
      "cell_type": "markdown",
      "source": [
        "You will see the status Accepted after completion if your code is correct.\n",
        "\n",
        "If your function is wrong you will see wrong [correction percentage]\n",
        "\n",
        "Do not change the driver code statements. You can only change the input values to test your code."
      ],
      "metadata": {
        "id": "z-BkkdfjgR6P"
      }
    },
    {
      "cell_type": "code",
      "source": [
        "#Assignment Part-2\n",
        "#Complete the following 4 methods(Mandatory) and one bonus(optional)task for part-2"
      ],
      "metadata": {
        "id": "ebuGnEPwttQ0"
      },
      "execution_count": null,
      "outputs": []
    },
    {
      "cell_type": "code",
      "source": [
        "#Task 01: Merge Lineup\n",
        "def mergeLineup(pokemon_1, pokemon_2):\n",
        "  newarr=np.zeros(len(pokemon_1),dtype=int)\n",
        "  i=0\n",
        "  j=len(pokemon_1)-1\n",
        "  for k in range(len(pokemon_1)):\n",
        "    if pokemon_1[k]==None:\n",
        "      pokemon_1[k]=0\n",
        "    if pokemon_2[k]==None:\n",
        "      pokemon_2[k]=0\n",
        "  while i<len(pokemon_1):\n",
        "    newarr[i]=pokemon_1[i]+pokemon_2[j]\n",
        "    i+=1\n",
        "    j-=1\n",
        "  return newarr\n",
        "\n",
        "\n",
        "\n",
        "print(\"///  Task 01: Merge Lineup  ///\")\n",
        "pokemon_1 = np.array([12, 3, 25, 1, None])\n",
        "pokemon_2 = np.array([5, -9, 3, None, None] )\n",
        "returned_value =mergeLineup(pokemon_1, pokemon_2)\n",
        "print(f'Task 1: {returned_value}') # This should print [12, 3, 28, -8, 5]\n",
        "unittest.output_test(returned_value, np.array([12, 3, 28, -8, 5]))\n",
        "\n",
        "pokemon_1 = np.array([4, 5, -1, None, None])\n",
        "pokemon_2 = np.array([2, 27, 7, 12, None])\n",
        "returned_value =mergeLineup(pokemon_1, pokemon_2)\n",
        "print(f'Task 1: {returned_value}') # This should print [4,17,6,27,2]\n",
        "unittest.output_test(returned_value, np.array([4,17,6,27,2]))"
      ],
      "metadata": {
        "id": "ZVbY0rzKgRgC",
        "colab": {
          "base_uri": "https://localhost:8080/"
        },
        "outputId": "25c6518c-105b-45a9-fff2-7f481144fcd2"
      },
      "execution_count": null,
      "outputs": [
        {
          "output_type": "stream",
          "name": "stdout",
          "text": [
            "///  Task 01: Merge Lineup  ///\n",
            "Task 1: [12  3 28 -8  5]\n",
            "Accepted\n",
            "Task 1: [ 4 17  6 27  2]\n",
            "Accepted\n"
          ]
        }
      ]
    },
    {
      "cell_type": "code",
      "source": [
        "# Task 02: Discard Cards\n",
        "def discardCards(cards, t):\n",
        "  j=0\n",
        "  count=0\n",
        "  while j <= len(cards)-1:\n",
        "    if cards[j]==t:\n",
        "      if count%2==0:\n",
        "        for i in range(j,len(cards)-1):\n",
        "          cards[i]=cards[i+1]\n",
        "          cards[i+1]=0\n",
        "        j-=1\n",
        "      count+=1\n",
        "    j+=1\n",
        "  return cards\n",
        "\n",
        "print(\"///  Task 02: Discard Cards  ///\")\n",
        "cards = np.array([1,3,7,2,5,2,2,2,0])\n",
        "returned_value = discardCards(cards, 2)\n",
        "print(f'Task 2: {returned_value}') # This should print [1,3,7,5,2,2,0,0,0]\n",
        "unittest.output_test(returned_value, np.array([1,3,7,5,2,2,0,0,0]))\n",
        "\n",
        "cards = np.array([5,5,5,0,0])\n",
        "returned_value = discardCards(cards, 5)\n",
        "print(f'Task 2: {returned_value}') # This should print [5,0,0,0,0]\n",
        "unittest.output_test(returned_value, np.array([5,0,0,0,0]))"
      ],
      "metadata": {
        "id": "rzaysRSshRbM",
        "colab": {
          "base_uri": "https://localhost:8080/"
        },
        "outputId": "a36efe43-d6a2-490b-ef9c-d92b732fd2ce"
      },
      "execution_count": 3,
      "outputs": [
        {
          "output_type": "stream",
          "name": "stdout",
          "text": [
            "///  Task 02: Discard Cards  ///\n",
            "Task 2: [1 3 7 5 2 2 0 0 0]\n",
            "Accepted\n",
            "Task 2: [5 0 0 0 0]\n",
            "Accepted\n"
          ]
        }
      ]
    },
    {
      "cell_type": "code",
      "source": [
        "# Task 03: DUBER Fare Splitting\n",
        "def findGroups(money, fare):\n",
        "  counter=1\n",
        "  b=0\n",
        "  for i in range(len(money)):\n",
        "    for j in range(i+1,len(money)):\n",
        "      if money[i]==fare:\n",
        "        print(f\"Group {counter}: {money[i]}\")\n",
        "        counter+=1\n",
        "        money[i]=0\n",
        "        b+=1\n",
        "      if money[j]==0:\n",
        "        continue\n",
        "      if money[i]+money[j]==fare:\n",
        "        print(f\"Group {counter}: {money[i]},{money[j]}\")\n",
        "        money[j]=0\n",
        "        money[i]=0\n",
        "        counter+=1\n",
        "        b+=2\n",
        "  ungrouped=np.array([0]*(len(money)-b))\n",
        "  k=0\n",
        "  for x in range(len(money)):\n",
        "    flag=True\n",
        "    if money[x]!=0:\n",
        "      ungrouped[k]=money[x]\n",
        "      k+=1\n",
        "      flag=False\n",
        "  if flag==False:\n",
        "    print(f\"Ungrouped: {ungrouped}\")\n",
        "\n",
        "\n",
        "print(\"///  Task 03: DUBER Fare Splitting  ///\")\n",
        "money = np.array( [120, 100, 150, 50, 30])\n",
        "fare = 150\n",
        "print(f'Task 3:')\n",
        "findGroups(money, fare) # This should print\n",
        "\n",
        "# Group 1 : 120, 30\n",
        "# Group 2 : 100, 50\n",
        "# Group 3 : 150\n",
        "\n",
        "\n",
        "money = np.array( [60, 150, 60, 30, 120, 30])\n",
        "fare = 180\n",
        "print(f'Task 3:')\n",
        "findGroups(money, fare) # This should print\n",
        "\n",
        "# Group 1 : 60, 120\n",
        "# Group 2 : 30, 150\n",
        "# Ungrouped : 30 60"
      ],
      "metadata": {
        "id": "CYtNF5M8itbB",
        "colab": {
          "base_uri": "https://localhost:8080/"
        },
        "outputId": "5ec6cb42-390e-4b64-a98e-d8953bd94da8"
      },
      "execution_count": 35,
      "outputs": [
        {
          "output_type": "stream",
          "name": "stdout",
          "text": [
            "///  Task 03: DUBER Fare Splitting  ///\n",
            "Task 3:\n",
            "Group 1: 120,30\n",
            "Group 2: 100,50\n",
            "Group 3: 150\n",
            "Task 3:\n",
            "Group 1: 60,120\n",
            "Group 2: 150,30\n",
            "Ungrouped: [60 30]\n"
          ]
        }
      ]
    },
    {
      "cell_type": "code",
      "source": [
        "# Task 04: Get Those Hobbies\n",
        "def analyzeHobbies(* participants): #(* arguments) is used for variable number of parameters\n",
        "  count=0\n",
        "  for i in range(len(participants)):\n",
        "    x=participants[i]\n",
        "    for j in range(len(x)):\n",
        "      count+=1\n",
        "  newarr=np.array([None]*count*2)\n",
        "  m=0\n",
        "  unique=0\n",
        "  for i in range(len(participants)):\n",
        "    x=participants[i]\n",
        "    for j in range(len(x)):\n",
        "      if x[j] not in newarr:\n",
        "        newarr[m]=x[j]\n",
        "        newarr[m+1]=1\n",
        "        m+=2\n",
        "        unique+=1\n",
        "      else:\n",
        "        for i in range(len(newarr)):\n",
        "          if newarr[i]==x[j]:\n",
        "            newarr[i+1]+=1\n",
        "  uniquearr=np.array([None]*unique)\n",
        "  j=0\n",
        "  for i in range(0,2*unique,2):\n",
        "    uniquearr[j]=newarr[i]\n",
        "    j+=1\n",
        "  print(uniquearr)\n",
        "  for i in range(0,len(newarr),2):\n",
        "    if newarr[i]==None:\n",
        "      break\n",
        "    else:\n",
        "      print(f\"# {newarr[i+1]} participant(s) like(s) {newarr[i]}.\")\n",
        "print(\"///  Task 04: Get Those Hobbies  ///\")\n",
        "participant_1 = np.array( [\"Hiking\", \"Reading\", \"Photography\", \"Cooking\"])\n",
        "participant_2 = np.array( [\"Reading\", \"Hiking\", \"Painting\"])\n",
        "participant_3 = np.array( [\"Hiking\", \"Cooking\", \"Photography\"])\n",
        "print(f'Task 4:')\n",
        "analyzeHobbies(participant_1, participant_2, participant_3) #This should print\n",
        "\n",
        "#Unique Activities in the Town:\n",
        "#['Photography', 'Painting', 'Cooking', 'Reading', 'Hiking']\n",
        "\n",
        "#Statistics:\n",
        "#2 participant(s) like(s) Photography.\n",
        "#1 participant(s) like(s) Painting.\n",
        "#2 participant(s) like(s) Cooking.\n",
        "#2 participant(s) like(s) Reading.\n",
        "#3 participant(s) like(s) Hiking.\n",
        "\n",
        "\n",
        "\n",
        "participant_1 = np.array( [\"Gardening\", \"Traveling\"])\n",
        "participant_2 = np.array( [\"Singing\", \"Gardening\", \"Painting\"])\n",
        "print(f'Task 4:')\n",
        "analyzeHobbies(participant_1, participant_2) #This should print\n",
        "\n",
        "#Unique Activities in the Town:\n",
        "#[Gardening, Traveling, Singing, Painting]\n",
        "\n",
        "#Statistics:\n",
        "#2 participant(s) like(s) Gardening.\n",
        "#1 participant(s) like(s) Traveling.\n",
        "#1 participant(s) like(s) Singing.\n",
        "#1 participant(s) like(s) Painting.\n"
      ],
      "metadata": {
        "id": "SzBe-ByVmV8G",
        "colab": {
          "base_uri": "https://localhost:8080/"
        },
        "outputId": "84a2200b-993e-4002-d048-ce695684c666"
      },
      "execution_count": 24,
      "outputs": [
        {
          "output_type": "stream",
          "name": "stdout",
          "text": [
            "///  Task 04: Get Those Hobbies  ///\n",
            "Task 4:\n",
            "['Hiking' 'Reading' 'Photography' 'Cooking' 'Painting']\n",
            "# 3 participant(s) like(s) Hiking.\n",
            "# 2 participant(s) like(s) Reading.\n",
            "# 2 participant(s) like(s) Photography.\n",
            "# 2 participant(s) like(s) Cooking.\n",
            "# 1 participant(s) like(s) Painting.\n",
            "Task 4:\n",
            "['Gardening' 'Traveling' 'Singing' 'Painting']\n",
            "# 2 participant(s) like(s) Gardening.\n",
            "# 1 participant(s) like(s) Traveling.\n",
            "# 1 participant(s) like(s) Singing.\n",
            "# 1 participant(s) like(s) Painting.\n"
          ]
        }
      ]
    },
    {
      "cell_type": "code",
      "source": [
        "# Bonus Ungraded Task: Look and Say\n",
        "def look_and_say(arr):\n",
        "  newarr=np.zeros(100)\n",
        "  for i in range(arr):\n",
        "    for j in range(i+1):\n",
        "      if arr[j]\n",
        "\n",
        "\n",
        "print(\"///  Bonus Task: Look and Say  ///\")\n",
        "arr = np.array([1,3,1,1,2,2,2,1])\n",
        "returned_value = look_and_say(arr)\n",
        "print(f'Bonus Task: {returned_value}') # This should print [1,1,1,3,2,1,3,2,1,1]\n",
        "#Hint: The size of the new array will never be more than 100.\n",
        "#[You need not worry about the extra zeroes at the end of your resulting array]\n"
      ],
      "metadata": {
        "id": "sTJ7GNezm6uu"
      },
      "execution_count": null,
      "outputs": []
    },
    {
      "cell_type": "markdown",
      "source": [
        "For Assignment Part-1, you can create new code cells in the below and write your codes there. Also you should write driver codes to test your code for part-1."
      ],
      "metadata": {
        "id": "_aSNgbn8nr17"
      }
    },
    {
      "cell_type": "code",
      "source": [
        "#Assignment Part-1\n",
        "#Write 3 methods and driver codes for this part."
      ],
      "metadata": {
        "id": "CxJHbg7onWwN"
      },
      "execution_count": null,
      "outputs": []
    },
    {
      "cell_type": "code",
      "source": [
        "import math\n",
        "\n",
        "def calculate_mean(x):\n",
        "  sum=0\n",
        "  for i in range(len(x)):\n",
        "    sum+=x[i]\n",
        "  return sum/len(x)\n",
        "\n",
        "def calculate_standard_deviation(x):\n",
        "  m=calculate_mean(x)\n",
        "  nume=0\n",
        "  for i in range(len(x)):\n",
        "    nume+=(x[i]-mean)**2\n",
        "  ans=math.sqrt(nume/(len(x)-1))\n",
        "  return ans\n",
        "def filtered_numbers(x):\n",
        "  m=calculate_mean(x)\n",
        "  sd=calculate_standard_deviation(x)\n",
        "  count=0\n",
        "  for i in range(len(x)):\n",
        "    if 1.5*sd<=x[i]<=1.5*sd:\n",
        "      count+=1\n",
        "  newarr=np.zeros(count)\n",
        "  j=0\n",
        "  for i in range(len(x)):\n",
        "    if 1.5*sd<=x[i]<=1.5*sd:\n",
        "      newarr[j]=x[i]\n",
        "      j+=1\n",
        "  return newarr\n",
        "\n",
        "# Test the functions with an example array\n",
        "numbers = [10, 8, 13, 9, 14, 25, -5, 20, 7, 7, 4]\n",
        "mean = calculate_mean(numbers)\n",
        "standard_deviation = calculate_standard_deviation(numbers)\n",
        "filtered_numbers = filter_numbers(numbers, mean, standard_deviation)\n",
        "\n",
        "print(\"Mean:\", mean)\n",
        "print(\"Standard Deviation:\", standard_deviation)\n",
        "print(\"Filtered Numbers:\", filtered_numbers)"
      ],
      "metadata": {
        "id": "s-dXmnPUuJqu",
        "colab": {
          "base_uri": "https://localhost:8080/"
        },
        "outputId": "4f945999-d3de-4062-8a26-ec69136949c4"
      },
      "execution_count": 33,
      "outputs": [
        {
          "output_type": "stream",
          "name": "stdout",
          "text": [
            "Mean: 10.181818181818182\n",
            "Standard Deviation: 7.960127911260996\n",
            "Filtered Numbers: [25, -5]\n"
          ]
        }
      ]
    }
  ]
}